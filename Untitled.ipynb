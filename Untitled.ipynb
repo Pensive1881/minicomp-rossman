{
 "cells": [
  {
   "cell_type": "code",
   "execution_count": 1,
   "metadata": {},
   "outputs": [
    {
     "name": "stderr",
     "output_type": "stream",
     "text": [
      "usage: ipykernel_launcher.py [-h] [--test [TEST]]\n",
      "ipykernel_launcher.py: error: unrecognized arguments: -f /Users/akasper/Library/Jupyter/runtime/kernel-73d90576-e00e-4307-9ce1-6c4179e641b3.json\n"
     ]
    },
    {
     "ename": "SystemExit",
     "evalue": "2",
     "output_type": "error",
     "traceback": [
      "An exception has occurred, use %tb to see the full traceback.\n",
      "\u001b[0;31mSystemExit\u001b[0m\u001b[0;31m:\u001b[0m 2\n"
     ]
    },
    {
     "name": "stderr",
     "output_type": "stream",
     "text": [
      "/Users/akasper/anaconda3/lib/python3.7/site-packages/IPython/core/interactiveshell.py:3339: UserWarning: To exit: use 'exit', 'quit', or Ctrl-D.\n",
      "  warn(\"To exit: use 'exit', 'quit', or Ctrl-D.\", stacklevel=1)\n"
     ]
    }
   ],
   "source": [
    "import argparse\n",
    "import os\n",
    "import shutil\n",
    "import zipfile\n",
    "\n",
    "import numpy as np\n",
    "import pandas as pd\n",
    "\n",
    "\n",
    "def mask_training_data(data):\n",
    "    print('missing vals before {}'.format(np.sum(np.sum(pd.isnull(data.values)))))\n",
    "    arr = data.values\n",
    "    mask = np.random.choice([0, 1], p=[0.97, 0.03], size=arr.size).astype(bool).reshape(arr.shape)\n",
    "\n",
    "    arr[mask] = np.nan\n",
    "    masked = pd.DataFrame(arr, index=data.index, columns=data.columns)\n",
    "    print('missing vals after {}'.format(np.sum(np.sum(masked.isnull()))))\n",
    "    print('')\n",
    "    return masked\n",
    "\n",
    "\n",
    "if __name__ == '__main__':\n",
    "    parser = argparse.ArgumentParser()\n",
    "    parser.add_argument('--test', default=0, nargs='?')\n",
    "    args = parser.parse_args()\n",
    "\n",
    "    with zipfile.ZipFile('./data/rossmann-store-sales.zip', 'r') as zip_ref:\n",
    "        zip_ref.extractall('./data/raw')\n",
    "\n",
    "    raw = pd.read_csv('./data/raw/train.csv', parse_dates=True)\n",
    "    data = raw.set_index('Date')\n",
    "    data = data.sort_index()\n",
    "\n",
    "    train_end = '2014-07-31'\n",
    "    test_start = '2014-08-01'\n",
    "    train = data.loc[:train_end, :]\n",
    "    test = data.loc[test_start:, :]\n",
    "    assert train.shape[0] + test.shape[0] == raw.shape[0]\n",
    "\n",
    "    np.random.seed(42)\n",
    "    masked = mask_training_data(train)\n",
    "\n",
    "    masked.to_csv('./data/train.csv')\n",
    "\n",
    "    os.rename('./data/raw/store.csv', './data/store.csv')\n",
    "    shutil.rmtree('./data/raw')\n",
    "\n",
    "    if bool(int(args.test)):\n",
    "        test.to_csv('./data/test.csv')"
   ]
  },
  {
   "cell_type": "code",
   "execution_count": 2,
   "metadata": {},
   "outputs": [],
   "source": [
    "import data"
   ]
  },
  {
   "cell_type": "code",
   "execution_count": 3,
   "metadata": {},
   "outputs": [
    {
     "data": {
      "text/plain": [
       "<module 'data' from '/Users/akasper/Documents/_DSR/minicomp-rossman/data.py'>"
      ]
     },
     "execution_count": 3,
     "metadata": {},
     "output_type": "execute_result"
    }
   ],
   "source": [
    "data"
   ]
  },
  {
   "cell_type": "code",
   "execution_count": null,
   "metadata": {},
   "outputs": [],
   "source": []
  }
 ],
 "metadata": {
  "kernelspec": {
   "display_name": "Python 3",
   "language": "python",
   "name": "python3"
  },
  "language_info": {
   "codemirror_mode": {
    "name": "ipython",
    "version": 3
   },
   "file_extension": ".py",
   "mimetype": "text/x-python",
   "name": "python",
   "nbconvert_exporter": "python",
   "pygments_lexer": "ipython3",
   "version": "3.7.6"
  }
 },
 "nbformat": 4,
 "nbformat_minor": 4
}
